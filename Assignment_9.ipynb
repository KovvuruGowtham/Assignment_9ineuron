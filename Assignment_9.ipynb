{
 "cells": [
  {
   "cell_type": "raw",
   "id": "da0b8695-7e35-4cda-9f14-2e6c0713e639",
   "metadata": {},
   "source": [
    "1. To what does a relative path refer?"
   ]
  },
  {
   "cell_type": "raw",
   "id": "a176c125-81fc-48d8-8a22-ad400a52523b",
   "metadata": {},
   "source": [
    "Ans: A relative path refers to the location of a file relative to the current working directory"
   ]
  },
  {
   "cell_type": "raw",
   "id": "bcc72078-765b-4c72-81f5-071738ae6d03",
   "metadata": {},
   "source": [
    "2. What does an absolute path start with your operating system?"
   ]
  },
  {
   "cell_type": "raw",
   "id": "90b1bd96-4225-4ec4-94d6-dd4aeeb25628",
   "metadata": {},
   "source": [
    "Ans:An absolute path is a path that contains the entire path to the file or directory that is to be accessed. This path begins at the home directory of a computer and will end with the file or directory that is to be accessed."
   ]
  },
  {
   "cell_type": "raw",
   "id": "68dba90f-1623-44fd-9de3-76f1d99f5557",
   "metadata": {},
   "source": [
    "3. What do the functions os.getcwd() and os.chdir() do?"
   ]
  },
  {
   "cell_type": "raw",
   "id": "2e5560ee-8d85-4e8a-9192-1752ec95f825",
   "metadata": {},
   "source": [
    "Ans: os.getcwd() returns the absolute path of current/working directory."
   ]
  },
  {
   "cell_type": "code",
   "execution_count": 1,
   "id": "4ac9ef18-5164-4886-af0c-69ca9a5063e0",
   "metadata": {},
   "outputs": [
    {
     "data": {
      "text/plain": [
       "'/home/jovyan/work'"
      ]
     },
     "execution_count": 1,
     "metadata": {},
     "output_type": "execute_result"
    }
   ],
   "source": [
    "import os\n",
    "os.getcwd()"
   ]
  },
  {
   "cell_type": "raw",
   "id": "4706de54-34f2-4c33-ad1b-6fe7b8cc05ee",
   "metadata": {},
   "source": [
    "os.chdir() is used to change the path of current working directory to a specified path"
   ]
  },
  {
   "cell_type": "raw",
   "id": "afc8e01d-04cf-49f1-99d9-9ed342d11590",
   "metadata": {},
   "source": [
    "4. What are the . and .. folders?"
   ]
  },
  {
   "cell_type": "raw",
   "id": "26ab48fe-e45d-4e27-ad7f-93a5ae3964bf",
   "metadata": {},
   "source": [
    "Ans:These are not real folders but special names that can be used in a path. A single period(\"dot') for a folder name is shorthand for \"the current directory\".Two periods(\"..\") means the \"the parent folder\""
   ]
  },
  {
   "cell_type": "raw",
   "id": "74143863-10cc-44dc-87c8-5862aee95277",
   "metadata": {},
   "source": [
    "5. In C:\\bacon\\eggs\\spam.txt, which part is the dir name, and which part is the base name?"
   ]
  },
  {
   "cell_type": "raw",
   "id": "81b525f7-7a4a-41f6-a80c-facbf54c9e0a",
   "metadata": {},
   "source": [
    "Ans:In C:\\bacon\\eggs\\spam.txt, the directory name is C:\\bacon\\eggs, and the base name is spam.txt.\n",
    "\n",
    "The directory name includes the path to the file, which is C:\\bacon\\eggs. This specifies the location of the file in the file system.\n",
    "\n",
    "The base name refers to the actual file name, which is spam.txt. This is the name of the file without the directory path."
   ]
  },
  {
   "cell_type": "raw",
   "id": "4703de0e-319b-431f-a3dd-66419d374e5d",
   "metadata": {},
   "source": [
    "6. What are the three “mode” arguments that can be passed to the open() function?"
   ]
  },
  {
   "cell_type": "raw",
   "id": "ec6a2185-11d9-40db-9f61-855c4584e5b0",
   "metadata": {},
   "source": [
    "The open() function in Python is used to open a file and returns a file object that can be used to read from or write to the file.\n",
    "\n",
    "The open() function takes two arguments: the file name/path and the mode. The mode argument is a string that specifies how the file will be opened, whether for reading, writing, or appending, and whether it will be opened in binary or text mode.\n",
    "\n",
    "There are three basic \"mode\" arguments that can be passed to the open() function:\n",
    "\n",
    "\"r\" (read mode): This mode opens a file for reading. The file pointer is placed at the beginning of the file. This is the default mode if no mode is specified.\n",
    "\n",
    "\"w\" (write mode): This mode opens a file for writing. If the file already exists, its contents are truncated (erased). If the file does not exist, a new file is created.\n",
    "\n",
    "\"a\" (append mode): This mode opens a file for appending. The file pointer is placed at the end of the file. If the file does not exist, a new file is created."
   ]
  },
  {
   "cell_type": "raw",
   "id": "fe3ddfb1-04e6-486e-9415-ae21390243f9",
   "metadata": {},
   "source": [
    "7. What happens if an existing file is opened in write mode?"
   ]
  },
  {
   "cell_type": "raw",
   "id": "976ca890-821d-4a79-b603-f77d0efbeb92",
   "metadata": {},
   "source": [
    "Ans: If an existing file is opened in write mode using the \"w\" flag, the contents of the file are erased and replaced with the new data that is written to the file. In other words, the file is truncated to zero length before any data is written to it.This means that any existing data in the file will be lost when it is opened in write mode.\n"
   ]
  },
  {
   "cell_type": "raw",
   "id": "a41c5df1-afcd-4ace-8e8f-c4dca6fb3cc3",
   "metadata": {},
   "source": [
    "8. How do you tell the difference between read() and readlines()?"
   ]
  },
  {
   "cell_type": "raw",
   "id": "8f5cbc2c-4c0d-4179-8f01-5dbbddb8a305",
   "metadata": {},
   "source": [
    "Ans: The read() and readlines() methods are used to read data from a file. The main difference between the two is:\n",
    "\n",
    "read(): This method reads the entire contents of a file into a string. It takes an optional parameter that specifies the maximum number of bytes to read at once, but if no argument is provided, it reads the entire file at once. The resulting string includes all the characters in the file, including any newline characters.\n",
    "\n",
    "readlines(): This method reads all the lines in a file and returns them as a list of strings. Each string in the list represents a single line from the file, including any newline characters. If the file is large, this method can be memory-intensive, since it reads the entire file into memory at once."
   ]
  },
  {
   "cell_type": "raw",
   "id": "7571b4cd-6742-4ded-934f-fccb3fd1d0c3",
   "metadata": {},
   "source": [
    "9. What data structure does a shelf value resemble?"
   ]
  },
  {
   "cell_type": "raw",
   "id": "7ee8c485-a16e-4eb5-afdc-1f3d9ce7bd10",
   "metadata": {},
   "source": [
    "In Python, a shelf is a persistent, dictionary-like object that is implemented using the dbm database format. Like a dictionary, a shelf stores key-value pairs, but unlike a dictionary, the contents of a shelf are stored on disk, so they can be accessed across multiple runs of a program.\n",
    "\n",
    "The values in a shelf can be any picklable Python object, meaning they can be any object that can be serialized and deserialized using Python's pickle module. This includes basic data types like integers, strings, and lists, as well as more complex objects like dictionaries and custom classes.\n",
    "\n",
    "In terms of data structure, a shelf value can be thought of as a dictionary that is stored on disk. Like a dictionary, a shelf value has key-value pairs, but the actual storage and retrieval of the data is done using a backend database (in this case, a dbm database), rather than in-memory data structures.\n",
    "\n",
    "Shelves can be a useful tool for storing and retrieving data that needs to persist across runs of a program, especially if the data is too large to fit in memory or if it needs to be shared between different processes or computers. However, they can also be slower to access than in-memory data structures, so they may not be appropriate for all use cases."
   ]
  },
  {
   "cell_type": "code",
   "execution_count": 4,
   "id": "cf04993e-8b79-4f3f-abba-92c5b6c9aa16",
   "metadata": {},
   "outputs": [
    {
     "name": "stdout",
     "output_type": "stream",
     "text": [
      "Alice\n",
      "30\n",
      "['reading', 'running', 'cooking']\n",
      "Alice\n",
      "31\n",
      "['reading', 'running', 'cooking']\n"
     ]
    }
   ],
   "source": [
    "import shelve\n",
    "\n",
    "# Create a shelf file and open it for read/write access\n",
    "with shelve.open('myshelf') as shelf:\n",
    "    # Add some key-value pairs to the shelf\n",
    "    shelf['name'] = 'Alice'\n",
    "    shelf['age'] = 30\n",
    "    shelf['hobbies'] = ['reading', 'running', 'cooking']\n",
    "\n",
    "    # Print the contents of the shelf\n",
    "    print(shelf['name'])\n",
    "    print(shelf['age'])\n",
    "    print(shelf['hobbies'])\n",
    "    \n",
    "    shelf['age'] = 31\n",
    "\n",
    "# Re-open the shelf file and print its contents\n",
    "with shelve.open('myshelf') as shelf:\n",
    "    print(shelf['name'])\n",
    "    print(shelf['age'])\n",
    "    print(shelf['hobbies'])\n",
    "\n",
    "    # Modify a value in the shel"
   ]
  },
  {
   "cell_type": "code",
   "execution_count": null,
   "id": "09f2ade8-67f2-46c4-9989-4890a683e231",
   "metadata": {},
   "outputs": [],
   "source": []
  }
 ],
 "metadata": {
  "kernelspec": {
   "display_name": "Python 3 (ipykernel)",
   "language": "python",
   "name": "python3"
  },
  "language_info": {
   "codemirror_mode": {
    "name": "ipython",
    "version": 3
   },
   "file_extension": ".py",
   "mimetype": "text/x-python",
   "name": "python",
   "nbconvert_exporter": "python",
   "pygments_lexer": "ipython3",
   "version": "3.10.6"
  }
 },
 "nbformat": 4,
 "nbformat_minor": 5
}
